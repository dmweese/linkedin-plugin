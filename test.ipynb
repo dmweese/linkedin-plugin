{
 "cells": [
  {
   "cell_type": "code",
   "execution_count": null,
   "metadata": {},
   "outputs": [],
   "source": [
    "auth_url = \"AQQv5SACX0OUyQ32MqCT3OgyKZpqq2QVmAw_SKShw26I8hYMqLMqCPPRBRNLxLhLIiL96L1nMT8zRoHnH0hkE4Lx5H2UBKhA-ayio-uisWGKaYC7xvsB_BbW8itmW2N70GVt4h3tmkLBG6UmovJ5xEVTGGdmIzYsVKDzS2F_It4TgAqBLs1iWuTXOIgUMueeGB-NpKBbRPhdRCA70Y0\""
   ]
  },
  {
   "cell_type": "code",
   "execution_count": 1,
   "metadata": {},
   "outputs": [
    {
     "ename": "ModuleNotFoundError",
     "evalue": "No module named 'linkedin_api'",
     "output_type": "error",
     "traceback": [
      "\u001b[1;31m---------------------------------------------------------------------------\u001b[0m",
      "\u001b[1;31mModuleNotFoundError\u001b[0m                       Traceback (most recent call last)",
      "Cell \u001b[1;32mIn[1], line 1\u001b[0m\n\u001b[1;32m----> 1\u001b[0m \u001b[38;5;28;01mimport\u001b[39;00m\u001b[38;5;250m \u001b[39m\u001b[38;5;21;01mlinkedin_api\u001b[39;00m\n",
      "\u001b[1;31mModuleNotFoundError\u001b[0m: No module named 'linkedin_api'"
     ]
    }
   ],
   "source": [
    "import linkedin_api"
   ]
  },
  {
   "cell_type": "code",
   "execution_count": null,
   "metadata": {},
   "outputs": [],
   "source": [
    "await fetch(\"https://www.linkedin.com/voyager/api/graphql?variables=(query:(keywords:devin%20weese,flagshipSearchIntent:SEARCH_SRP,queryParameters:List((key:primaryResultType,value:List(PEOPLE)),(key:resultType,value:List(ALL)))))&queryId=voyagerSearchDashFilterClusters.a4f6ebe3e6f77798f5f4cd4e5e28a194\", {\n",
    "    \"credentials\": \"include\",\n",
    "    \"headers\": {\n",
    "        \"User-Agent\": \"Mozilla/5.0 (Windows NT 10.0; Win64; x64; rv:135.0) Gecko/20100101 Firefox/135.0\",\n",
    "        \"Accept\": \"application/vnd.linkedin.normalized+json+2.1\",\n",
    "        \"Accept-Language\": \"en-US,en;q=0.5\",\n",
    "        \"x-li-lang\": \"en_US\",\n",
    "        \"x-li-track\": \"{\\\"clientVersion\\\":\\\"1.13.31570\\\",\\\"mpVersion\\\":\\\"1.13.31570\\\",\\\"osName\\\":\\\"web\\\",\\\"timezoneOffset\\\":-6,\\\"timezone\\\":\\\"America/Chicago\\\",\\\"deviceFormFactor\\\":\\\"DESKTOP\\\",\\\"mpName\\\":\\\"voyager-web\\\",\\\"displayDensity\\\":1,\\\"displayWidth\\\":1600,\\\"displayHeight\\\":900}\",\n",
    "        \"x-li-page-instance\": \"urn:li:page:d_flagship3_search_srp_all;G5+Gh/trQh2KdfsJIco99Q==\",\n",
    "        \"csrf-token\": \"ajax:0593444840543114493\",\n",
    "        \"x-restli-protocol-version\": \"2.0.0\",\n",
    "        \"x-li-pem-metadata\": \"Voyager - Search Results Page=lazy-loaded-advanced-filters\",\n",
    "        \"Sec-Fetch-Dest\": \"empty\",\n",
    "        \"Sec-Fetch-Mode\": \"cors\",\n",
    "        \"Sec-Fetch-Site\": \"same-origin\"\n",
    "    },\n",
    "    \"referrer\": \"https://www.linkedin.com/search/results/all/?keywords=devin%20weese&origin=GLOBAL_SEARCH_HEADER&sid=tnq\",\n",
    "    \"method\": \"GET\",\n",
    "    \"mode\": \"cors\"\n",
    "});"
   ]
  },
  {
   "cell_type": "code",
   "execution_count": null,
   "metadata": {},
   "outputs": [],
   "source": [
    "GET /voyager/api/graphql?variables=(query:(keywords:devin%20weese,flagshipSearchIntent:SEARCH_SRP,queryParameters:List((key:heroEntityKey,value:List(urn%3Ali%3Afsd_profile%3AACoAADrJ6l0BfKvFJ3ht_4MYc5lnhSIwJ-HQmAA)),(key:position,value:List(0)),(key:primaryResultType,value:List(CONTENT_POSTED_BY)),(key:resultType,value:List(ALL)),(key:searchId,value:List(9ad3c5c6-b9fb-4daa-b41e-efb53ea122de)),(key:spellCorrectionEnabled,value:List(false))),spellCorrectionEnabled:false))&queryId=voyagerSearchDashFilterClusters.a4f6ebe3e6f77798f5f4cd4e5e28a194 HTTP/2\n",
    "Host: www.linkedin.com\n",
    "User-Agent: Mozilla/5.0 (Windows NT 10.0; Win64; x64; rv:135.0) Gecko/20100101 Firefox/135.0\n",
    "Accept: application/vnd.linkedin.normalized+json+2.1\n",
    "Accept-Language: en-US,en;q=0.5\n",
    "Accept-Encoding: gzip, deflate, br, zstd\n",
    "x-li-lang: en_US\n",
    "x-li-track: {\"clientVersion\":\"1.13.31570\",\"mpVersion\":\"1.13.31570\",\"osName\":\"web\",\"timezoneOffset\":-6,\"timezone\":\"America/Chicago\",\"deviceFormFactor\":\"DESKTOP\",\"mpName\":\"voyager-web\",\"displayDensity\":1,\"displayWidth\":1600,\"displayHeight\":900}\n",
    "x-li-page-instance: urn:li:page:d_flagship3_search_srp_all;wAq4rwYWRH280pGQo2UH/w==\n",
    "csrf-token: ajax:0593444840543114493\n",
    "x-restli-protocol-version: 2.0.0\n",
    "x-li-pem-metadata: Voyager - Search Results Page=lazy-loaded-advanced-filters\n",
    "DNT: 1\n",
    "Connection: keep-alive\n",
    "Referer: https://www.linkedin.com/search/results/all/?fetchDeterministicClustersOnly=true&heroEntityKey=urn%3Ali%3Afsd_profile%3AACoAADrJ6l0BfKvFJ3ht_4MYc5lnhSIwJ-HQmAA&keywords=devin%20weese&origin=RICH_QUERY_SUGGESTION&position=0&searchId=9ad3c5c6-b9fb-4daa-b41e-efb53ea122de&spellCorrectionEnabled=false\n",
    "Cookie: bcookie=\"v=2&b4e0fa10-b1d4-4966-87b3-3b7110743f9d\"; bscookie=\"v=1&2024091103581493b712b2-9daa-463e-8ed7-73f6d59d7440AQFeeLM-PxakWWn-ENSOYhYVspWRt34p\"; JSESSIONID=\"ajax:0593444840543114493\"; AMCV_14215E3D5995C57C0A495C55%40AdobeOrg=-637568504%7CMCIDTS%7C20151%7CMCMID%7C31869064468590099853861883045570283861%7CMCOPTOUT-1741114278s%7CNONE%7CvVersion%7C5.1.1; li_rm=AQHqFCxYBRXEWQAAAZHixkeACH1gvBhyWRirc8h-6Ys7HaAOMAOIPCWXN-K47iSp0sFQeXKLynu6th-Zs09CpT0nJ37actMd0P422hOTZfH9W50a6DbtnhwY; timezone=America/Chicago; li_theme=light; li_theme_set=app; UserMatchHistory=AQIxLwk46frtYwAAAZViEX0FeTObSz95UQV5lcCu4x3S9hLIj5UqCe5-jek-1OGy8a66Q_RzALTEIL3dfPAr3q7OoozAnSzY3FRjoP70HAuOceO34FaizAKx9zV2l6fmpYbu4Fbot2AoKzFTdvpLB7jGgK3bg0xdX7bu-_BiJ36fspQELSPbOokvbENrOVIUPzgXM5AFcEzR2W2AKMP-E5HzPuQwGYQspg5kgD4ibflbOE9axY_H1HeN5HatrgA-eGy8gQETYVUz8EhqD_GoRNgH7pvUq1gDOpQbO9_oQfOhjDqqLN1zKI2H4wUKE4pDuErBOtHC6p1FTkFxV6LGuGJoDx6DvaTmSoUxcEMzWZhFjyUDUQ; dfpfpt=89507a93a08c4013b4eb74f7b6b261ac; gpv_pn=developer.linkedin.com%2Fproduct-catalog; s_ips=734; s_tp=5434; s_tslv=1739298559441; liap=true; li_at=AQEDATrJ6l0Fb90pAAABlPZT1pwAAAGVbBQ1bE0AARaI3DxW9FFxSXRYFTjwVsvdYiRBtq6vT5gvfy9coLXpmIAsGLTMhQ-wTVd90Lu2TvQ-h9rHA17xG3L6FusCR0TFq2AF8WcD9LH8OmjeyIy52DC4; _uetvid=57f6b2c0e4ed11ef9b8f195d8f5a6380; lang=\"v=2&lang=en-us\"; fptctx2=taBcrIH61PuCVH7eNCyH0J9Fjk1kZEyRnBbpUW3FKs%252f11lPCartfhTgFwEkeAS8ddiThJvWhvWAOirCaMX%252fMWXTx2vxNcCnBeTNyzYDQd2zYfosqtSJJwB0Ob5V%252fUS6xHcXdP6ndIC3sPAfRaoUQiNqNXeciEJ%252fX15O5TcgXKgoOAdGRkUrNZab8ehzLzo9EtYmTYlCiYnBGC%252fZTYNi8zKWmZTaSFqHyuX9DZUxWYL7aT3k19xQtSdKaMKYhXpKmtW4hhY%252fWib1gFTPNYQ2fDu3eRqJGgR0x33YvAfmUyvWdg%252bkk0%252fWAJteyi1DvKwWaj%252fAEb1DZ%252ferM2p2kNcpNOPyVHblEEEvYVTXAPB9dabI%253d; AMCVS_14215E3D5995C57C0A495C55%40AdobeOrg=1; lidc=\"b=TB61:s=T:r=T:a=T:p=T:g=5012:u=285:x=1:i=1741096159:t=1741182559:v=2:sig=AQGVvVcQhapLqnIRGu6GJKflxtnWxP5P\"\n",
    "Sec-Fetch-Dest: empty\n",
    "Sec-Fetch-Mode: cors\n",
    "Sec-Fetch-Site: same-origin\n",
    "TE: trailers"
   ]
  }
 ],
 "metadata": {
  "kernelspec": {
   "display_name": "Python 3",
   "language": "python",
   "name": "python3"
  },
  "language_info": {
   "codemirror_mode": {
    "name": "ipython",
    "version": 3
   },
   "file_extension": ".py",
   "mimetype": "text/x-python",
   "name": "python",
   "nbconvert_exporter": "python",
   "pygments_lexer": "ipython3",
   "version": "3.10.2"
  }
 },
 "nbformat": 4,
 "nbformat_minor": 2
}
