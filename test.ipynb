{
 "cells": [
  {
   "cell_type": "code",
   "execution_count": null,
   "metadata": {},
   "outputs": [],
   "source": [
    "auth_url = \"AQQv5SACX0OUyQ32MqCT3OgyKZpqq2QVmAw_SKShw26I8hYMqLMqCPPRBRNLxLhLIiL96L1nMT8zRoHnH0hkE4Lx5H2UBKhA-ayio-uisWGKaYC7xvsB_BbW8itmW2N70GVt4h3tmkLBG6UmovJ5xEVTGGdmIzYsVKDzS2F_It4TgAqBLs1iWuTXOIgUMueeGB-NpKBbRPhdRCA70Y0\""
   ]
  },
  {
   "cell_type": "code",
   "execution_count": null,
   "metadata": {},
   "outputs": [
    {
     "ename": "",
     "evalue": "",
     "output_type": "error",
     "traceback": [
      "\u001b[1;31mRunning cells with 'Python 3.10.2' requires the ipykernel package.\n",
      "\u001b[1;31mRun the following command to install 'ipykernel' into the Python environment. \n",
      "\u001b[1;31mCommand: 'c:/Python310/python.exe -m pip install ipykernel -U --user --force-reinstall'"
     ]
    }
   ],
   "source": [
    "import linkedin_api"
   ]
  }
 ],
 "metadata": {
  "kernelspec": {
   "display_name": "Python 3",
   "language": "python",
   "name": "python3"
  },
  "language_info": {
   "name": "python",
   "version": "3.10.2"
  }
 },
 "nbformat": 4,
 "nbformat_minor": 2
}
